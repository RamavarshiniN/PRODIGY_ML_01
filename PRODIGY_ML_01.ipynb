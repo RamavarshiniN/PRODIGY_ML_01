{
  "nbformat": 4,
  "nbformat_minor": 0,
  "metadata": {
    "colab": {
      "provenance": []
    },
    "kernelspec": {
      "name": "python3",
      "display_name": "Python 3"
    },
    "language_info": {
      "name": "python"
    }
  },
  "cells": [
    {
      "cell_type": "code",
      "source": [
        "import pandas as pd\n",
        "from sklearn.linear_model import LinearRegression\n",
        "\n",
        "# Load the training and test datasets\n",
        "train_data = pd.read_csv('train.csv')\n",
        "test_data = pd.read_csv('test.csv')\n",
        "\n",
        "# Extract features and target variable from training dataset\n",
        "X_train = train_data[['GrLivArea', 'BedroomAbvGr', 'HalfBath', 'FullBath']]\n",
        "y_train = train_data['SalePrice']\n",
        "\n",
        "# Extract same features from test dataset\n",
        "X_test = test_data[['GrLivArea', 'BedroomAbvGr', 'HalfBath', 'FullBath']]\n",
        "\n",
        "# Train the linear regression model\n",
        "model = LinearRegression()\n",
        "model.fit(X_train, y_train)\n",
        "\n",
        "# Predict house prices on test data\n",
        "y_pred = model.predict(X_test)\n",
        "\n",
        "# Round predicted prices to two decimal places\n",
        "y_pred_rounded = [round(price, 2) for price in y_pred]\n",
        "\n",
        "# Add predicted prices to test data\n",
        "test_data['PredictedPrice'] = y_pred_rounded\n",
        "\n",
        "# Save predictions to a CSV file\n",
        "test_data.to_csv('predicted_prices.csv', columns=['Id', 'PredictedPrice'], index=False)\n",
        "\n",
        "# Print coefficients and intercept\n",
        "print(\"Model Coefficients:\", model.coef_)\n",
        "print(\"Model Intercept:\", model.intercept_)\n"
      ],
      "metadata": {
        "colab": {
          "base_uri": "https://localhost:8080/"
        },
        "id": "7ZmZwsnjJxVH",
        "outputId": "ecb86f32-4353-4765-c1b6-697ff52c2b88"
      },
      "execution_count": 11,
      "outputs": [
        {
          "output_type": "stream",
          "name": "stdout",
          "text": [
            "Model Coefficients: [   108.22377873 -27911.62493864   3586.62008062  30380.78357956]\n",
            "Model Intercept: 47997.69971509662\n"
          ]
        }
      ]
    }
  ]
}